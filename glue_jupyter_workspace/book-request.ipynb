{
 "cells": [
  {
   "cell_type": "code",
   "execution_count": 2,
   "id": "3b4493c6-59a0-4d5d-8e98-5260bfc06856",
   "metadata": {},
   "outputs": [
    {
     "name": "stdout",
     "output_type": "stream",
     "text": [
      "Defaulting to user installation because normal site-packages is not writeable\n",
      "Collecting python-schema-registry-client\n",
      "  Downloading python_schema_registry_client-2.5.0-py3-none-any.whl (22 kB)\n",
      "Collecting fastavro<2.0.0,>=1.7.3\n",
      "  Downloading fastavro-1.8.2-cp310-cp310-manylinux_2_17_x86_64.manylinux2014_x86_64.whl (2.7 MB)\n",
      "\u001b[2K     \u001b[90m━━━━━━━━━━━━━━━━━━━━━━━━━━━━━━━━━━━━━━━━\u001b[0m \u001b[32m2.7/2.7 MB\u001b[0m \u001b[31m4.7 MB/s\u001b[0m eta \u001b[36m0:00:00\u001b[0m00:01\u001b[0m00:01\u001b[0m\n",
      "\u001b[?25hCollecting httpx<0.25.0,>=0.24.0\n",
      "  Downloading httpx-0.24.1-py3-none-any.whl (75 kB)\n",
      "\u001b[2K     \u001b[90m━━━━━━━━━━━━━━━━━━━━━━━━━━━━━━━━━━━━━━━━\u001b[0m \u001b[32m75.4/75.4 kB\u001b[0m \u001b[31m11.9 MB/s\u001b[0m eta \u001b[36m0:00:00\u001b[0m\n",
      "\u001b[?25hRequirement already satisfied: jsonschema<5.0.0,>=4.17.3 in /home/glue_user/.local/lib/python3.10/site-packages (from python-schema-registry-client) (4.18.1)\n",
      "Collecting aiofiles<24.0.0,>=23.1.0\n",
      "  Downloading aiofiles-23.1.0-py3-none-any.whl (14 kB)\n",
      "Collecting httpcore<0.18.0,>=0.15.0\n",
      "  Downloading httpcore-0.17.3-py3-none-any.whl (74 kB)\n",
      "\u001b[2K     \u001b[90m━━━━━━━━━━━━━━━━━━━━━━━━━━━━━━━━━━━━━━━━\u001b[0m \u001b[32m74.5/74.5 kB\u001b[0m \u001b[31m12.4 MB/s\u001b[0m eta \u001b[36m0:00:00\u001b[0m\n",
      "\u001b[?25hRequirement already satisfied: idna in /home/glue_user/.local/lib/python3.10/site-packages (from httpx<0.25.0,>=0.24.0->python-schema-registry-client) (2.10)\n",
      "Requirement already satisfied: sniffio in /home/glue_user/.local/lib/python3.10/site-packages (from httpx<0.25.0,>=0.24.0->python-schema-registry-client) (1.3.0)\n",
      "Requirement already satisfied: certifi in /home/glue_user/.local/lib/python3.10/site-packages (from httpx<0.25.0,>=0.24.0->python-schema-registry-client) (2021.5.30)\n",
      "Requirement already satisfied: attrs>=22.2.0 in /home/glue_user/.local/lib/python3.10/site-packages (from jsonschema<5.0.0,>=4.17.3->python-schema-registry-client) (22.2.0)\n",
      "Requirement already satisfied: rpds-py>=0.7.1 in /home/glue_user/.local/lib/python3.10/site-packages (from jsonschema<5.0.0,>=4.17.3->python-schema-registry-client) (0.8.10)\n",
      "Requirement already satisfied: jsonschema-specifications>=2023.03.6 in /home/glue_user/.local/lib/python3.10/site-packages (from jsonschema<5.0.0,>=4.17.3->python-schema-registry-client) (2023.6.1)\n",
      "Requirement already satisfied: referencing>=0.28.4 in /home/glue_user/.local/lib/python3.10/site-packages (from jsonschema<5.0.0,>=4.17.3->python-schema-registry-client) (0.29.1)\n",
      "Requirement already satisfied: anyio<5.0,>=3.0 in /home/glue_user/.local/lib/python3.10/site-packages (from httpcore<0.18.0,>=0.15.0->httpx<0.25.0,>=0.24.0->python-schema-registry-client) (3.7.1)\n",
      "Collecting h11<0.15,>=0.13\n",
      "  Downloading h11-0.14.0-py3-none-any.whl (58 kB)\n",
      "\u001b[2K     \u001b[90m━━━━━━━━━━━━━━━━━━━━━━━━━━━━━━━━━━━━━━━━\u001b[0m \u001b[32m58.3/58.3 kB\u001b[0m \u001b[31m4.2 MB/s\u001b[0m eta \u001b[36m0:00:00\u001b[0m\n",
      "\u001b[?25hRequirement already satisfied: exceptiongroup in /home/glue_user/.local/lib/python3.10/site-packages (from anyio<5.0,>=3.0->httpcore<0.18.0,>=0.15.0->httpx<0.25.0,>=0.24.0->python-schema-registry-client) (1.1.2)\n",
      "Installing collected packages: h11, fastavro, aiofiles, httpcore, httpx, python-schema-registry-client\n",
      "Successfully installed aiofiles-23.1.0 fastavro-1.8.2 h11-0.14.0 httpcore-0.17.3 httpx-0.24.1 python-schema-registry-client-2.5.0\n",
      "\n",
      "\u001b[1m[\u001b[0m\u001b[34;49mnotice\u001b[0m\u001b[1;39;49m]\u001b[0m\u001b[39;49m A new release of pip is available: \u001b[0m\u001b[31;49m23.0.1\u001b[0m\u001b[39;49m -> \u001b[0m\u001b[32;49m23.2.1\u001b[0m\n",
      "\u001b[1m[\u001b[0m\u001b[34;49mnotice\u001b[0m\u001b[1;39;49m]\u001b[0m\u001b[39;49m To update, run: \u001b[0m\u001b[32;49mpython3 -m pip install --upgrade pip\u001b[0m\n",
      "Note: you may need to restart the kernel to use updated packages.\n"
     ]
    }
   ],
   "source": [
    "%pip install python-schema-registry-client"
   ]
  },
  {
   "cell_type": "code",
   "execution_count": 3,
   "id": "71455878-57ed-4b7f-959b-4f1aa94883be",
   "metadata": {},
   "outputs": [
    {
     "data": {
      "application/vnd.jupyter.widget-view+json": {
       "model_id": "",
       "version_major": 2,
       "version_minor": 0
      },
      "text/plain": [
       "FloatProgress(value=0.0, bar_style='info', description='Progress:', layout=Layout(height='25px', width='50%'),…"
      ]
     },
     "metadata": {},
     "output_type": "display_data"
    }
   ],
   "source": [
    "import os\n",
    "import io\n",
    "import boto3\n",
    "\n",
    "s3 = boto3.resource('s3',\n",
    "                    endpoint_url=os.getenv(\"MINIO_PUBLIC_ENDPOINT\"),\n",
    "                    aws_access_key_id=os.getenv(\"MINIO_ACCESS_KEY\"),\n",
    "                    aws_secret_access_key=os.getenv(\"MINIO_SECRET_KEY\"),\n",
    "                    region_name='us-east-1')"
   ]
  },
  {
   "cell_type": "code",
   "execution_count": 4,
   "id": "3f287aee-c490-4506-92f8-80062864d6e5",
   "metadata": {},
   "outputs": [
    {
     "data": {
      "application/vnd.jupyter.widget-view+json": {
       "model_id": "",
       "version_major": 2,
       "version_minor": 0
      },
      "text/plain": [
       "FloatProgress(value=0.0, bar_style='info', description='Progress:', layout=Layout(height='25px', width='50%'),…"
      ]
     },
     "metadata": {},
     "output_type": "display_data"
    }
   ],
   "source": [
    "from schema_registry.client import SchemaRegistryClient, schema\n",
    "from schema_registry.serializers import AvroMessageSerializer\n",
    "\n",
    "schema_ = {\n",
    "  \"name\": \"order\",\n",
    "  \"type\": \"record\",\n",
    "  \"namespace\" : \"order\",\n",
    "  \"fields\": [\n",
    "    {\n",
    "      \"name\": \"id\",\n",
    "      \"type\": \"string\"\n",
    "    },\n",
    "    {\n",
    "      \"name\": \"userId\",\n",
    "      \"type\": \"string\"\n",
    "    },\n",
    "    {\n",
    "      \"name\": \"customerInfo\",\n",
    "      \"type\": {\n",
    "        \"name\": \"customerInfoFields\",\n",
    "        \"type\": \"record\",\n",
    "        \"fields\": [\n",
    "          {\n",
    "            \"name\": \"firstName\",\n",
    "            \"type\": \"string\"\n",
    "          },\n",
    "          {\n",
    "            \"name\": \"lastName\",\n",
    "            \"type\": \"string\"\n",
    "          },\n",
    "          {\n",
    "            \"name\": \"email\",\n",
    "            \"type\": \"string\"\n",
    "          },\n",
    "          {\n",
    "            \"name\": \"tel\",\n",
    "            \"type\": \"string\"\n",
    "          },\n",
    "          {\n",
    "            \"name\": \"address\",\n",
    "            \"type\": \"string\"\n",
    "          }\n",
    "        ]\n",
    "      }\n",
    "      \n",
    "    },\n",
    "    {\n",
    "      \"name\": \"createdDate\",\n",
    "      \"type\": \"string\"\n",
    "    },\n",
    "    {\n",
    "      \"name\": \"status\",\n",
    "      \"type\": \"string\"\n",
    "    },\n",
    "    {\n",
    "      \"name\": \"items\",\n",
    "      \"type\": {\n",
    "        \"type\": \"array\",\n",
    "        \"items\": {\n",
    "          \"name\": \"item\",\n",
    "          \"type\": \"record\",\n",
    "          \"fields\": [\n",
    "            {\n",
    "              \"name\": \"productId\",\n",
    "              \"type\": \"string\"\n",
    "            },\n",
    "            {\n",
    "              \"name\": \"quantity\",\n",
    "              \"type\": \"int\"\n",
    "            },\n",
    "            {\n",
    "              \"name\": \"price\",\n",
    "              \"type\": \"float\"\n",
    "            },\n",
    "            {\n",
    "              \"name\": \"title\",\n",
    "              \"type\": \"string\"\n",
    "            }\n",
    "          ]\n",
    "        }\n",
    "      }\n",
    "    }\n",
    "  ]\n",
    "}\n",
    "\n",
    "client = SchemaRegistryClient(os.getenv(\"SCHEMA_REGISTRY_ENDPOINT\"))\n",
    "avro_schema = schema.AvroSchema(schema_)\n",
    "schema_id = client.register(\"order\", avro_schema)\n",
    "avro_message_serializer = AvroMessageSerializer(client)\n",
    "\n",
    "def decode(raw_bytes):\n",
    "    message_decoded = avro_message_serializer.decode_message(raw_bytes)\n",
    "    return message_decoded"
   ]
  },
  {
   "cell_type": "code",
   "execution_count": 5,
   "id": "7fa81d37-7248-43ce-9b06-a6b3c0958439",
   "metadata": {},
   "outputs": [
    {
     "data": {
      "application/vnd.jupyter.widget-view+json": {
       "model_id": "",
       "version_major": 2,
       "version_minor": 0
      },
      "text/plain": [
       "FloatProgress(value=0.0, bar_style='info', description='Progress:', layout=Layout(height='25px', width='50%'),…"
      ]
     },
     "metadata": {},
     "output_type": "display_data"
    }
   ],
   "source": [
    "from pyspark.sql import Row\n",
    "\n",
    "rows = []\n",
    "bucket_name = \"order\"\n",
    "prefix = \"new/\"\n",
    "bucket = s3.Bucket(bucket_name)\n",
    "objects = bucket.objects.filter(Prefix = prefix)\n",
    "for obj in objects:\n",
    "    body = obj.get()['Body'].read()\n",
    "    decoded_body = decode(body)\n",
    "    if decoded_body:\n",
    "        body_obj = decoded_body\n",
    "        rows.append(\n",
    "            Row(\n",
    "                action = body_obj['action'],\n",
    "                book_id = body_obj['id'],\n",
    "                title = body_obj['title'],\n",
    "                image = body_obj['image'],\n",
    "                quantity = body_obj['quantity'],\n",
    "                price = body_obj['price'],\n",
    "                description = body_obj['description'],\n",
    "                categoryId = body_obj['categoryId'],\n",
    "                userId = body_obj['userId']\n",
    "            )\n",
    "        )"
   ]
  },
  {
   "cell_type": "code",
   "execution_count": 6,
   "id": "9e99a32e-20aa-4a5a-8b5f-faa0a5f8a8f8",
   "metadata": {},
   "outputs": [
    {
     "data": {
      "application/vnd.jupyter.widget-view+json": {
       "model_id": "",
       "version_major": 2,
       "version_minor": 0
      },
      "text/plain": [
       "FloatProgress(value=0.0, bar_style='info', description='Progress:', layout=Layout(height='25px', width='50%'),…"
      ]
     },
     "metadata": {},
     "output_type": "display_data"
    }
   ],
   "source": [
    "from pyspark.sql import SparkSession\n",
    "from pyspark.sql import Row\n",
    "\n",
    "try:\n",
    "    spark = SparkSession \\\n",
    "        .builder \\\n",
    "        .appName(\"Tabcorp book store\") \\\n",
    "        .getOrCreate()\n",
    "\n",
    "    df = spark.createDataFrame(rows)\n",
    "\n",
    "    df \\\n",
    "        .select('action', 'book_id', 'title', 'image', 'quantity', 'price', 'description', 'categoryId', 'userid') \\\n",
    "        .write \\\n",
    "        .mode(\"append\") \\\n",
    "        .format(\"jdbc\") \\\n",
    "        .options(\n",
    "                 url='jdbc:postgresql://postgres:5432/tc_book_store',\n",
    "                 dbtable='tc_book_requests',\n",
    "                 user='postgres',\n",
    "                 password='postgres',\n",
    "                 driver='org.postgresql.Driver') \\\n",
    "        .save()\n",
    "except Exception as error:\n",
    "    print(error)"
   ]
  },
  {
   "cell_type": "code",
   "execution_count": 7,
   "id": "6d590da6-9d5b-4588-a657-d1abfe279c16",
   "metadata": {},
   "outputs": [
    {
     "data": {
      "application/vnd.jupyter.widget-view+json": {
       "model_id": "",
       "version_major": 2,
       "version_minor": 0
      },
      "text/plain": [
       "FloatProgress(value=0.0, bar_style='info', description='Progress:', layout=Layout(height='25px', width='50%'),…"
      ]
     },
     "metadata": {},
     "output_type": "display_data"
    },
    {
     "name": "stdout",
     "output_type": "stream",
     "text": [
      "{'ResponseMetadata': {'RequestId': '1775FD189C0A8550', 'HostId': 'dd9025bab4ad464b049177c95eb6ebf374d3b3fd1af9251148b658df7ac2e3e8', 'HTTPStatusCode': 200, 'HTTPHeaders': {'accept-ranges': 'bytes', 'content-length': '232', 'content-type': 'application/xml', 'etag': '\"499c91c6fae399d9fc95264e51d33031\"', 'server': 'MinIO', 'strict-transport-security': 'max-age=31536000; includeSubDomains', 'vary': 'Origin, Accept-Encoding', 'x-amz-id-2': 'dd9025bab4ad464b049177c95eb6ebf374d3b3fd1af9251148b658df7ac2e3e8', 'x-amz-request-id': '1775FD189C0A8550', 'x-content-type-options': 'nosniff', 'x-xss-protection': '1; mode=block', 'date': 'Fri, 28 Jul 2023 09:11:57 GMT'}, 'RetryAttempts': 0}, 'CopyObjectResult': {'ETag': '\"499c91c6fae399d9fc95264e51d33031\"', 'LastModified': datetime.datetime(2023, 7, 28, 9, 11, 57, 287000, tzinfo=tzlocal())}}\n",
      "{'ResponseMetadata': {'RequestId': '1775FD18A0CE9E9F', 'HostId': 'dd9025bab4ad464b049177c95eb6ebf374d3b3fd1af9251148b658df7ac2e3e8', 'HTTPStatusCode': 200, 'HTTPHeaders': {'accept-ranges': 'bytes', 'content-length': '232', 'content-type': 'application/xml', 'etag': '\"a78d968c2a9f3c38e47b31ccc5b50a69\"', 'server': 'MinIO', 'strict-transport-security': 'max-age=31536000; includeSubDomains', 'vary': 'Origin, Accept-Encoding', 'x-amz-id-2': 'dd9025bab4ad464b049177c95eb6ebf374d3b3fd1af9251148b658df7ac2e3e8', 'x-amz-request-id': '1775FD18A0CE9E9F', 'x-content-type-options': 'nosniff', 'x-xss-protection': '1; mode=block', 'date': 'Fri, 28 Jul 2023 09:11:57 GMT'}, 'RetryAttempts': 0}, 'CopyObjectResult': {'ETag': '\"a78d968c2a9f3c38e47b31ccc5b50a69\"', 'LastModified': datetime.datetime(2023, 7, 28, 9, 11, 57, 366000, tzinfo=tzlocal())}}\n",
      "{'ResponseMetadata': {'RequestId': '1775FD18A4C8648C', 'HostId': 'dd9025bab4ad464b049177c95eb6ebf374d3b3fd1af9251148b658df7ac2e3e8', 'HTTPStatusCode': 200, 'HTTPHeaders': {'accept-ranges': 'bytes', 'content-length': '232', 'content-type': 'application/xml', 'etag': '\"060c8e14cf954b111ae6fa50a4dce726\"', 'server': 'MinIO', 'strict-transport-security': 'max-age=31536000; includeSubDomains', 'vary': 'Origin, Accept-Encoding', 'x-amz-id-2': 'dd9025bab4ad464b049177c95eb6ebf374d3b3fd1af9251148b658df7ac2e3e8', 'x-amz-request-id': '1775FD18A4C8648C', 'x-content-type-options': 'nosniff', 'x-xss-protection': '1; mode=block', 'date': 'Fri, 28 Jul 2023 09:11:57 GMT'}, 'RetryAttempts': 0}, 'CopyObjectResult': {'ETag': '\"060c8e14cf954b111ae6fa50a4dce726\"', 'LastModified': datetime.datetime(2023, 7, 28, 9, 11, 57, 433000, tzinfo=tzlocal())}}\n",
      "{'ResponseMetadata': {'RequestId': '1775FD18A8D6041D', 'HostId': 'dd9025bab4ad464b049177c95eb6ebf374d3b3fd1af9251148b658df7ac2e3e8', 'HTTPStatusCode': 200, 'HTTPHeaders': {'accept-ranges': 'bytes', 'content-length': '232', 'content-type': 'application/xml', 'etag': '\"507c14c25f22863ed91fd62a9d209178\"', 'server': 'MinIO', 'strict-transport-security': 'max-age=31536000; includeSubDomains', 'vary': 'Origin, Accept-Encoding', 'x-amz-id-2': 'dd9025bab4ad464b049177c95eb6ebf374d3b3fd1af9251148b658df7ac2e3e8', 'x-amz-request-id': '1775FD18A8D6041D', 'x-content-type-options': 'nosniff', 'x-xss-protection': '1; mode=block', 'date': 'Fri, 28 Jul 2023 09:11:57 GMT'}, 'RetryAttempts': 0}, 'CopyObjectResult': {'ETag': '\"507c14c25f22863ed91fd62a9d209178\"', 'LastModified': datetime.datetime(2023, 7, 28, 9, 11, 57, 501000, tzinfo=tzlocal())}}\n",
      "{'ResponseMetadata': {'RequestId': '1775FD18ACAD3059', 'HostId': 'dd9025bab4ad464b049177c95eb6ebf374d3b3fd1af9251148b658df7ac2e3e8', 'HTTPStatusCode': 200, 'HTTPHeaders': {'accept-ranges': 'bytes', 'content-length': '232', 'content-type': 'application/xml', 'etag': '\"6c4414b6cc4a47f43b66ad658e9b3c80\"', 'server': 'MinIO', 'strict-transport-security': 'max-age=31536000; includeSubDomains', 'vary': 'Origin, Accept-Encoding', 'x-amz-id-2': 'dd9025bab4ad464b049177c95eb6ebf374d3b3fd1af9251148b658df7ac2e3e8', 'x-amz-request-id': '1775FD18ACAD3059', 'x-content-type-options': 'nosniff', 'x-xss-protection': '1; mode=block', 'date': 'Fri, 28 Jul 2023 09:11:57 GMT'}, 'RetryAttempts': 0}, 'CopyObjectResult': {'ETag': '\"6c4414b6cc4a47f43b66ad658e9b3c80\"', 'LastModified': datetime.datetime(2023, 7, 28, 9, 11, 57, 565000, tzinfo=tzlocal())}}"
     ]
    }
   ],
   "source": [
    "new_folder_key = \"processed\"\n",
    "for obj in objects:\n",
    "    src_key = obj.key\n",
    "    if not src_key.endswith(\"/\"):\n",
    "        file_name = src_key.split(\"/\")[-1]\n",
    "        dest_file_key = new_folder_key + \"/\" + file_name\n",
    "        copy_source = bucket_name + \"/\" + src_key\n",
    "        s3.Object(bucket_name, dest_file_key).copy_from(CopySource = copy_source)\n",
    "        # s3.Object(bucket_name, src_key).delete()"
   ]
  }
 ],
 "metadata": {
  "kernelspec": {
   "display_name": "PySpark",
   "language": "python",
   "name": "pysparkkernel"
  },
  "language_info": {
   "codemirror_mode": {
    "name": "python",
    "version": 3
   },
   "file_extension": ".py",
   "mimetype": "text/x-python",
   "name": "pyspark",
   "pygments_lexer": "python3"
  }
 },
 "nbformat": 4,
 "nbformat_minor": 5
}
